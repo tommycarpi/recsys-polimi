{
 "cells": [
  {
   "cell_type": "code",
   "execution_count": 1,
   "metadata": {
    "collapsed": true
   },
   "outputs": [],
   "source": [
    "import numpy as np\n",
    "import pandas as pd\n",
    "import os\n",
    "import sys\n",
    "import metrics as mt"
   ]
  },
  {
   "cell_type": "code",
   "execution_count": 2,
   "metadata": {
    "collapsed": false
   },
   "outputs": [],
   "source": [
    "test_set_path = '../sets/test_set.csv'\n",
    "sub_path = '../subs/'\n",
    "test_set = pd.read_csv(test_set_path, sep=',',index_col=0)\n",
    "test_set = test_set['recommended_items'].apply(lambda x: pd.Series([int(i) for i in str(x).split(' ')] if x!='' else []))"
   ]
  },
  {
   "cell_type": "code",
   "execution_count": 3,
   "metadata": {
    "collapsed": false
   },
   "outputs": [],
   "source": [
    "sub_name = 'top_pop.csv'\n",
    "\n",
    "submission = pd.read_csv(os.path.join(sub_path, sub_name), sep=',',index_col=0)\n",
    "submission = submission.fillna('')\n",
    "submission.columns = ['items']\n",
    "sub_ranks = submission['items'].apply(lambda x: pd.Series([int(i) for i in str(x).split(' ')] if x!='' else []))"
   ]
  },
  {
   "cell_type": "code",
   "execution_count": 4,
   "metadata": {
    "collapsed": false
   },
   "outputs": [
    {
     "name": "stdout",
     "output_type": "stream",
     "text": [
      "Running evaluation over 4000 users\n",
      "Your submission contains predictions for 4000 of them\n",
      "Average Recall:  0.00365\n",
      "Mean average precision at 5:  0.0009775\n",
      "Average user success:  0.01775\n"
     ]
    }
   ],
   "source": [
    "print('Running evaluation over {} users'.format(len(test_set)))\n",
    "print('Your submission contains predictions for {} of them'.format(submission.shape[0]))\n",
    "metrics = mt.compute_metrics(sub_ranks,test_set,k=5)\n",
    "print('Average Recall: '), metrics[0]\n",
    "print('Mean average precision at 5: '), metrics[2]\n",
    "print('Average user success: '), metrics[1]"
   ]
  },
  {
   "cell_type": "code",
   "execution_count": 6,
   "metadata": {
    "collapsed": false
   },
   "outputs": [
    {
     "name": "stdout",
     "output_type": "stream",
     "text": [
      " Competition score:  2185.16666667\n"
     ]
    }
   ],
   "source": [
    "print('Competition score: '), mt.challenge_score(sub_ranks,test_set,k=5)"
   ]
  },
  {
   "cell_type": "code",
   "execution_count": null,
   "metadata": {
    "collapsed": true
   },
   "outputs": [],
   "source": []
  }
 ],
 "metadata": {
  "kernelspec": {
   "display_name": "Python 2",
   "language": "python",
   "name": "python2"
  },
  "language_info": {
   "codemirror_mode": {
    "name": "ipython",
    "version": 2
   },
   "file_extension": ".py",
   "mimetype": "text/x-python",
   "name": "python",
   "nbconvert_exporter": "python",
   "pygments_lexer": "ipython2",
   "version": "2.7.11"
  }
 },
 "nbformat": 4,
 "nbformat_minor": 0
}
