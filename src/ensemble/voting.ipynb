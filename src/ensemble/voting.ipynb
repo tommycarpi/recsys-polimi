{
 "cells": [
  {
   "cell_type": "code",
   "execution_count": 1,
   "metadata": {
    "collapsed": true
   },
   "outputs": [],
   "source": [
    "from operator import itemgetter"
   ]
  },
  {
   "cell_type": "code",
   "execution_count": 104,
   "metadata": {
    "collapsed": true
   },
   "outputs": [],
   "source": [
    "def voting(sc, rdds):\n",
    "    ensemble_rdd = sc.emptyRDD()\n",
    "    \n",
    "    for rdd in rdds:\n",
    "        ensemble_rdd = ensemble_rdd.union(rdd.map(lambda x: (x[0], [(i,1) for i in x[1]])))\n",
    "    \n",
    "    voting_rdd = (ensemble_rdd.flatMap(lambda r: [(r[0], x) for x in r[1]])\n",
    "                     .map(lambda x: ((x[0],x[1][0]),x[1][1]))\n",
    "                     .reduceByKey(lambda x,y:x+y)\n",
    "                     .map(lambda x: (x[0][0],[(x[0][1],x[1])]))\n",
    "                     .reduceByKey(lambda x,y:x+y)\n",
    "                     .map(lambda x: (x[0],sorted(x[1], key=itemgetter(1), reverse=True)[:30]))\n",
    "                     )\n",
    "    \n",
    "    return voting_rdd\n",
    "\n",
    "def voting_weighted(sc, rdds):\n",
    "    ensemble_rdd = sc.emptyRDD()\n",
    "    \n",
    "    for rdd in rdds:\n",
    "        value = rdd[1]\n",
    "        ensemble_rdd = ensemble_rdd.union(rdd[0].map(lambda x: (x[0], [(i,value) for i in x[1]])))\n",
    "    \n",
    "    voting_rdd = (ensemble_rdd.flatMap(lambda r: [(r[0], x) for x in r[1]])\n",
    "                     .map(lambda x: ((x[0],x[1][0]),x[1][1]))\n",
    "                     .reduceByKey(lambda x,y:x+y)\n",
    "                     .map(lambda x: (x[0][0],[(x[0][1],x[1])]))\n",
    "                     .reduceByKey(lambda x,y:x+y)\n",
    "                     .map(lambda x: (x[0],sorted(x[1], key=itemgetter(1), reverse=True)[:30]))\n",
    "                     )\n",
    "    \n",
    "    return voting_rdd"
   ]
  },
  {
   "cell_type": "code",
   "execution_count": 105,
   "metadata": {
    "collapsed": true
   },
   "outputs": [],
   "source": [
    "def recommendation_list(string):\n",
    "    lista=[]\n",
    "    split = string.split(',')\n",
    "    for i in split:\n",
    "        if i != '':\n",
    "            lista.append((int(i)))\n",
    "            \n",
    "    return lista\n",
    "\n",
    "def parse_submission(sc, path):\n",
    "    rdd = sc.textFile(path)\n",
    "    \n",
    "    header = rdd.first()\n",
    "\n",
    "    rdd = (rdd.filter(lambda x: x != header)\n",
    "    .map(lambda x: x.split(\"\\t\"))\n",
    "    .filter(lambda x: x[0] != '')\n",
    "    .map(lambda x:(int(x[0]),recommendation_list(x[1])))\n",
    "    )\n",
    "\n",
    "    return rdd"
   ]
  },
  {
   "cell_type": "code",
   "execution_count": 106,
   "metadata": {
    "collapsed": false
   },
   "outputs": [
    {
     "name": "stdout",
     "output_type": "stream",
     "text": [
      "[(9, [2778525, 1244196, 1053542, 657183, 536047, 1386412, 1162250, 1583705, 2791339, 784737, 1984327, 343377, 1576126, 2106311, 1056667, 830073, 1953846, 2446769, 1679143, 2031981, 1069281, 468120, 1851386, 1776330, 2593483, 2466095, 1443706, 2002097, 1092821, 460717])]\n"
     ]
    }
   ],
   "source": [
    "a = parse_submission(sc, \"/Users/tommy/Documents/pumpkin-pie/top_pop_impressions.csv\")\n",
    "b = parse_submission(sc, \"/Users/tommy/Documents/pumpkin-pie/top_pop_impressions.csv\")\n",
    "\n",
    "print a.take(1)"
   ]
  },
  {
   "cell_type": "code",
   "execution_count": 84,
   "metadata": {
    "collapsed": false
   },
   "outputs": [],
   "source": [
    "recommendation_rdd = voting(sc, [a,b])"
   ]
  },
  {
   "cell_type": "code",
   "execution_count": 107,
   "metadata": {
    "collapsed": false
   },
   "outputs": [],
   "source": [
    "recommendation_rdd = voting_weighted(sc, [(a,0.5), (b,1)])"
   ]
  },
  {
   "cell_type": "code",
   "execution_count": 108,
   "metadata": {
    "collapsed": false
   },
   "outputs": [
    {
     "data": {
      "text/plain": [
       "[(458752,\n",
       "  [(1443706, 1.5),\n",
       "   (1953846, 1.5),\n",
       "   (1576126, 1.5),\n",
       "   (1053542, 1.5),\n",
       "   (1162250, 1.5),\n",
       "   (1851386, 1.5),\n",
       "   (1776330, 1.5),\n",
       "   (2031981, 1.5),\n",
       "   (830073, 1.5),\n",
       "   (784737, 1.5),\n",
       "   (1092821, 1.5),\n",
       "   (460717, 1.5),\n",
       "   (2002097, 1.5),\n",
       "   (343377, 1.5),\n",
       "   (2446769, 1.5),\n",
       "   (1583705, 1.5),\n",
       "   (1069281, 1.5),\n",
       "   (2778525, 1.5),\n",
       "   (1386412, 1.5),\n",
       "   (1244196, 1.5),\n",
       "   (468120, 1.5),\n",
       "   (2106311, 1.5),\n",
       "   (2593483, 1.5),\n",
       "   (2466095, 1.5),\n",
       "   (536047, 1.5),\n",
       "   (1984327, 1.5),\n",
       "   (1679143, 1.5),\n",
       "   (2791339, 1.5),\n",
       "   (1056667, 1.5),\n",
       "   (657183, 1.5)])]"
      ]
     },
     "execution_count": 108,
     "metadata": {},
     "output_type": "execute_result"
    }
   ],
   "source": [
    "recommendation_rdd.take(1)"
   ]
  },
  {
   "cell_type": "code",
   "execution_count": null,
   "metadata": {
    "collapsed": true
   },
   "outputs": [],
   "source": []
  }
 ],
 "metadata": {
  "kernelspec": {
   "display_name": "Python 2",
   "language": "python",
   "name": "python2"
  },
  "language_info": {
   "codemirror_mode": {
    "name": "ipython",
    "version": 2
   },
   "file_extension": ".py",
   "mimetype": "text/x-python",
   "name": "python",
   "nbconvert_exporter": "python",
   "pygments_lexer": "ipython2",
   "version": "2.7.11"
  }
 },
 "nbformat": 4,
 "nbformat_minor": 0
}
