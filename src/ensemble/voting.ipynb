{
 "cells": [
  {
   "cell_type": "code",
   "execution_count": 4,
   "metadata": {
    "collapsed": true
   },
   "outputs": [],
   "source": [
    "from operator import itemgetter\n",
    "from utils import merge_utils as mu\n",
    "from utils import write_utils as wu"
   ]
  },
  {
   "cell_type": "code",
   "execution_count": 5,
   "metadata": {
    "collapsed": true
   },
   "outputs": [],
   "source": [
    "def voting(sc, rdds):\n",
    "    ensemble_rdd = sc.emptyRDD()\n",
    "    \n",
    "    for rdd in rdds:\n",
    "        ensemble_rdd = ensemble_rdd.union(rdd.map(lambda x: (x[0], [(i,1) for i in x[1]])))\n",
    "    \n",
    "    voting_rdd = (ensemble_rdd.flatMap(lambda r: [(r[0], x) for x in r[1]])\n",
    "                     .map(lambda x: ((x[0],x[1][0]),x[1][1]))\n",
    "                     .reduceByKey(lambda x,y:x+y)\n",
    "                     .map(lambda x: (x[0][0],[(x[0][1],x[1])]))\n",
    "                     .reduceByKey(lambda x,y:x+y)\n",
    "                     .map(lambda x: (x[0],sorted(x[1], key=itemgetter(1), reverse=True)[:30]))\n",
    "                     )\n",
    "    \n",
    "    return voting_rdd\n",
    "\n",
    "def voting_weighted(sc, rdds):\n",
    "    ensemble_rdd = sc.emptyRDD()\n",
    "    \n",
    "    for rdd in rdds:\n",
    "        value = rdd[1]\n",
    "        ensemble_rdd = ensemble_rdd.union(rdd[0].map(lambda x: (x[0], [(i,value) for i in x[1]])))\n",
    "    \n",
    "    voting_rdd = (ensemble_rdd.flatMap(lambda r: [(r[0], x) for x in r[1]])\n",
    "                     .map(lambda x: ((x[0],x[1][0]),x[1][1]))\n",
    "                     .reduceByKey(lambda x,y:x+y)\n",
    "                     .map(lambda x: (x[0][0],[(x[0][1],x[1])]))\n",
    "                     .reduceByKey(lambda x,y:x+y)\n",
    "                     .map(lambda x: (x[0],sorted(x[1], key=itemgetter(1), reverse=True)[:30]))\n",
    "                     )\n",
    "    \n",
    "    return voting_rdd"
   ]
  },
  {
   "cell_type": "code",
   "execution_count": 6,
   "metadata": {
    "collapsed": true
   },
   "outputs": [],
   "source": [
    "def recommendation_list(string):\n",
    "    lista=[]\n",
    "    split = string.split(',')\n",
    "    for i in split:\n",
    "        if i != '':\n",
    "            lista.append((int(i)))\n",
    "            \n",
    "    return lista\n",
    "\n",
    "def parse_submission(sc, path):\n",
    "    rdd = sc.textFile(path)\n",
    "    \n",
    "    header = rdd.first()\n",
    "\n",
    "    rdd = (rdd.filter(lambda x: x != header)\n",
    "    .map(lambda x: x.split(\"\\t\"))\n",
    "    .filter(lambda x: x[0] != '')\n",
    "    .map(lambda x:(int(x[0]),recommendation_list(x[1])))\n",
    "    )\n",
    "\n",
    "    return rdd"
   ]
  },
  {
   "cell_type": "code",
   "execution_count": 7,
   "metadata": {
    "collapsed": false
   },
   "outputs": [],
   "source": [
    "interaction_rdd = parse_submission(sc, \"../../Submissions/ens_subs/interactions_82k.csv\")\n",
    "impression_rdd = parse_submission(sc, \"../../Submissions/ens_subs/impressions_116k.csv\")\n",
    "\n",
    "cf_intint_rdd = parse_submission(sc, \"../../Submissions/ens_subs/cf_int_int_18.9k.csv\")\n",
    "cf_intimp_rdd = parse_submission(sc, \"../../Submissions/ens_subs/cf_int_imp_22.4k.csv\")\n",
    "cf_impint_rdd = parse_submission(sc, \"../../Submissions/ens_subs/imp_imp_int_int_33.2k_avg.csv\")\n",
    "cf_impimp_rdd = parse_submission(sc, \"../../Submissions/ens_subs/cf_imp_imp_31k.csv\")\n",
    "cf_i_intint_rdd = parse_submission(sc, \"../../Submissions/ens_subs/true_10k_CF_ITEM_greater_3_shr=1_knn=750_22k.csv\")\n",
    "cf_i_impimp_rdd = parse_submission(sc, \"../../Submissions/ens_subs/cf_item_imp_imp_20k.csv\")\n",
    "\n",
    "cb_idf_rdd = parse_submission(sc, \"../../Submissions/ens_subs/idf_45k.csv\")\n",
    "cb_concept_rdd = parse_submission(sc, \"../../Submissions/ens_subs/tf_ervin_37k.csv\")"
   ]
  },
  {
   "cell_type": "code",
   "execution_count": 8,
   "metadata": {
    "collapsed": false
   },
   "outputs": [],
   "source": [
    "recommendation_rdd = voting(sc, [interaction_rdd,\n",
    "                                impression_rdd,\n",
    "                                cf_intint_rdd,\n",
    "                                cf_intimp_rdd,\n",
    "                                cf_impimp_rdd,\n",
    "                                cf_impint_rdd,\n",
    "                                cf_i_impimp_rdd,\n",
    "                                cf_i_intint_rdd,\n",
    "                                cb_idf_rdd,\n",
    "                                cb_concept_rdd])"
   ]
  },
  {
   "cell_type": "code",
   "execution_count": 9,
   "metadata": {
    "collapsed": false
   },
   "outputs": [
    {
     "name": "stdout",
     "output_type": "stream",
     "text": [
      "Submission file results/pure_voting created successfully\n"
     ]
    }
   ],
   "source": [
    "wu.prepareSubmission(recommendation_rdd,\"results/pure_voting\")"
   ]
  },
  {
   "cell_type": "code",
   "execution_count": 12,
   "metadata": {
    "collapsed": false
   },
   "outputs": [],
   "source": [
    "recommendation_rdd = voting_weighted(sc, [(interaction_rdd,4),\n",
    "                                (impression_rdd,4),\n",
    "                                (cf_intint_rdd,1),\n",
    "                                (cf_intimp_rdd,1),\n",
    "                                (cf_impimp_rdd,1),\n",
    "                                (cf_impint_rdd,1),\n",
    "                                (cf_i_impimp_rdd,1),\n",
    "                                (cf_i_intint_rdd,1),\n",
    "                                (cb_idf_rdd,1),\n",
    "                                (cb_concept_rdd,1)])"
   ]
  },
  {
   "cell_type": "code",
   "execution_count": 13,
   "metadata": {
    "collapsed": false
   },
   "outputs": [
    {
     "name": "stdout",
     "output_type": "stream",
     "text": [
      "Submission file results/weighted_voting created successfully\n"
     ]
    }
   ],
   "source": [
    "wu.prepareSubmission(recommendation_rdd,\"results/weighted_voting\")"
   ]
  },
  {
   "cell_type": "code",
   "execution_count": null,
   "metadata": {
    "collapsed": true
   },
   "outputs": [],
   "source": []
  }
 ],
 "metadata": {
  "kernelspec": {
   "display_name": "Python 2",
   "language": "python",
   "name": "python2"
  },
  "language_info": {
   "codemirror_mode": {
    "name": "ipython",
    "version": 2
   },
   "file_extension": ".py",
   "mimetype": "text/x-python",
   "name": "python",
   "nbconvert_exporter": "python",
   "pygments_lexer": "ipython2",
   "version": "2.7.11"
  }
 },
 "nbformat": 4,
 "nbformat_minor": 0
}
