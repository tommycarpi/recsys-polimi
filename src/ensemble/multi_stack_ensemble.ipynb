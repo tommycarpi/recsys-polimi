{
 "cells": [
  {
   "cell_type": "markdown",
   "metadata": {},
   "source": [
    "Multi-Stack Ensemble\n",
    "==="
   ]
  },
  {
   "cell_type": "code",
   "execution_count": 3,
   "metadata": {
    "collapsed": false
   },
   "outputs": [],
   "source": [
    "from operator import itemgetter\n",
    "import itertools\n",
    "import numpy as np\n",
    "import pandas as pd\n",
    "import imp\n",
    "mt = imp.load_source('metrics', '../evaluation_metric/metrics.py')"
   ]
  },
  {
   "cell_type": "code",
   "execution_count": 4,
   "metadata": {
    "collapsed": false
   },
   "outputs": [],
   "source": [
    "split_char=\",\"\n",
    "sep_char=\"\\t\"\n",
    "\n",
    "test_set_path = '../../Dataset/test_users.csv'\n",
    "test_set = pd.read_csv(test_set_path, sep=sep_char,index_col=0)\n",
    "test_set = test_set['items'].apply(lambda x: pd.Series([int(i) for i in str(x).split(split_char)] if x!='' else []))"
   ]
  },
  {
   "cell_type": "code",
   "execution_count": 5,
   "metadata": {
    "collapsed": false
   },
   "outputs": [
    {
     "name": "stdout",
     "output_type": "stream",
     "text": [
      "113649.378005\n"
     ]
    }
   ],
   "source": [
    "idf = pd.read_csv(\"results/rank_averaging.csv\", sep=sep_char,index_col=0)\n",
    "idf = idf.fillna('')\n",
    "idf.columns = ['items']\n",
    "idf = idf.sort_index()\n",
    "idf = idf['items'].apply(lambda x: pd.Series([int(i) for i in str(x).split(split_char)] if x!='' else []))\n",
    "score = mt.challenge_score(idf, test_set, 30)\n",
    "\n",
    "print score"
   ]
  },
  {
   "cell_type": "markdown",
   "metadata": {},
   "source": [
    "Parser\n",
    "---\n",
    "Parse the submissions setting the value assigned to each item to 0."
   ]
  },
  {
   "cell_type": "code",
   "execution_count": 46,
   "metadata": {
    "collapsed": false
   },
   "outputs": [],
   "source": [
    "def parse(sc, path):\n",
    "    # Create rdd\n",
    "    rdd = sc.textFile(path)\n",
    "    # Select header to be removed\n",
    "    header = rdd.first()\n",
    "\n",
    "    rdd = (rdd.filter(lambda x: x != header)\n",
    "           .map(lambda x: x.split(\"\\t\"))\n",
    "           .filter(lambda x: x[0] != '')\n",
    "           .map(lambda x:(int(x[0]),setup_items(x[1])))\n",
    "    )\n",
    "\n",
    "    return rdd\n",
    "\n",
    "def setup_items(items):\n",
    "    item_rank = 0\n",
    "    items_list = []\n",
    "    items_split = items.split(',')\n",
    "    \n",
    "    for item in items_split:\n",
    "        if item != '':\n",
    "            item_rank += 1\n",
    "            items_list.append((int(item),item_rank,0))\n",
    "            \n",
    "    return items_list"
   ]
  },
  {
   "cell_type": "code",
   "execution_count": 48,
   "metadata": {
    "collapsed": false
   },
   "outputs": [],
   "source": [
    "#interaction_rdd = parse(sc, \"./submissions/\")\n",
    "#impression_rdd = parse(sc, \"./submissions/\")\n",
    "\n",
    "cf_intint_rdd = parse(sc, \"../../Submissions/ens_subs/cf_int_int_18.9k.csv\")\n",
    "cf_intimp_rdd = parse(sc, \"../../Submissions/ens_subs/cf_int_imp_22.4k.csv\")\n",
    "cf_impint_rdd = parse(sc, \"../../Submissions/ens_subs/imp_imp_int_int_33.2k_avg.csv\")\n",
    "cf_impimp_rdd = parse(sc, \"../../Submissions/ens_subs/cf_imp_imp_31k.csv\")\n",
    "cf_i_intint_rdd = parse(sc, \"../../Submissions/ens_subs/true_10k_CF_ITEM_greater_3_shr=1_knn=750_22k.csv\")\n",
    "cf_i_impimp_rdd = parse(sc, \"../../Submissions/ens_subs/cf_item_imp_imp_20k.csv\")\n",
    "\n",
    "cb_idf_rdd = parse(sc, \"../../Submissions/ens_subs/idf_45k.csv\")\n",
    "cb_concept_rdd = parse(sc, \"../../Submissions/ens_subs/tf_ervin_37k.csv\")\n",
    "\n",
    "#baseline_rdd = parse(sc, \"./submissions/\")"
   ]
  },
  {
   "cell_type": "markdown",
   "metadata": {},
   "source": [
    "Scorer\n",
    "===\n",
    "Assigns to each item a value based on the chosen algorithm."
   ]
  },
  {
   "cell_type": "code",
   "execution_count": 49,
   "metadata": {
    "collapsed": true
   },
   "outputs": [],
   "source": [
    "def linear_scorer(sc, rdd, score, decay):\n",
    "    \"\"\"Assign a value using a linear algorithm.\n",
    "    score is the value given to that learner.\"\"\"\n",
    "    \n",
    "    scored_rdd = rdd.map(lambda x: (x[0], linear_calculator(x[1], score, decay)))\n",
    "    return scored_rdd\n",
    "    \n",
    "def linear_calculator(tuples, score, decay):\n",
    "    scored_tuples = []\n",
    "    \n",
    "    for t in tuples:\n",
    "        scored_tuples.append((t[0], t[1], score - t[1]*decay))\n",
    "    \n",
    "    return scored_tuples\n",
    "\n",
    "def evaluation_scorer(sc, rdd, score):\n",
    "    \"\"\"Assign a value based on the score obtained on the online leaderboard and the evaluation metric.\"\"\"\n",
    "    \n",
    "    number_of_items = calculate_number_of_items(sc, rdd)\n",
    "    scored_rdd = rdd.map(lambda x: (x[0], evaluation_calculator(x[1], score, number_of_items)))\n",
    "    \n",
    "    return scored_rdd\n",
    "\n",
    "def calculate_number_of_items(sc, rdd):\n",
    "    return sum(rdd.filter(lambda x: x != header)\n",
    "                .map(lambda x: x.split(\"\\t\"))\n",
    "                .filter(lambda x: x[0] != '')\n",
    "                .map(lambda x: len(get_items(x[1]))).collect())\n",
    "    \n",
    "def evaluation_calculator(tuples, score, number_of_items):\n",
    "    scored_tuples = []\n",
    "    \n",
    "    for t in tuples:\n",
    "        scored_tuples.append((t[0], t[1], score * 1000 / number_of_items))\n",
    "        \n",
    "    return scored_tuples"
   ]
  },
  {
   "cell_type": "markdown",
   "metadata": {},
   "source": [
    "Ensemble\n",
    "=="
   ]
  },
  {
   "cell_type": "code",
   "execution_count": 50,
   "metadata": {
    "collapsed": true
   },
   "outputs": [],
   "source": [
    "def ensemble(sc, rdd_list):\n",
    "    combination_rdd = sc.emptyRDD()\n",
    "    \n",
    "    for rdd in rdd_list:\n",
    "        combination_rdd = combination_rdd.union(rdd.map(lambda x: (x[0], [(i[0],i[2]) for i in x[1]])))\n",
    "        \n",
    "    ensemble_rdd = (combination_rdd.flatMap(lambda r: [(r[0], x) for x in r[1]])\n",
    "                 .map(lambda x: ((x[0],x[1][0]),x[1][1]))\n",
    "                 .reduceByKey(lambda x,y:x+y)\n",
    "                 .map(lambda x: (x[0][0],[(x[0][1],x[1])]))\n",
    "                 .reduceByKey(lambda x,y:x+y)\n",
    "                 .map(lambda x: (x[0],sorted(x[1], key=itemgetter(1), reverse=True)[:30]))\n",
    "                 )\n",
    "        \n",
    "    return ensemble_rdd"
   ]
  },
  {
   "cell_type": "code",
   "execution_count": 51,
   "metadata": {
    "collapsed": false
   },
   "outputs": [],
   "source": [
    "def create_linear_combination(values_pool, decays_pool, number_of_elements):\n",
    "    combination = []\n",
    "    \n",
    "    for v in range(0,len(values_pool)):\n",
    "        for d in range(0, len(decays_pool)):\n",
    "            combination.append((values_pool[v], decays_pool[d]))\n",
    "        \n",
    "    return itertools.combinations(combination, number_of_elements)"
   ]
  },
  {
   "cell_type": "markdown",
   "metadata": {},
   "source": [
    "Stack Ensembler - Level 1\n",
    "===\n",
    "Collaborative Filtering\n",
    "---"
   ]
  },
  {
   "cell_type": "code",
   "execution_count": 54,
   "metadata": {
    "collapsed": false
   },
   "outputs": [],
   "source": [
    "a = ensemble(sc, [\n",
    "        linear_scorer(sc, test_rdd, 2, 0.001),\n",
    "        linear_scorer(sc, test_rdd, 2, 0.001)\n",
    "    ])"
   ]
  },
  {
   "cell_type": "code",
   "execution_count": 55,
   "metadata": {
    "collapsed": false
   },
   "outputs": [
    {
     "name": "stdout",
     "output_type": "stream",
     "text": [
      "[(458752, [(2403671, 3.998), (893826, 3.996), (2597393, 3.994), (532879, 3.992), (453182, 3.99), (415805, 3.988), (1047607, 3.986), (2175903, 3.984), (2405192, 3.982), (1379165, 3.98), (1183681, 3.978), (1239344, 3.976), (2048576, 3.974), (2800343, 3.972), (410886, 3.97), (1934282, 3.968), (219673, 3.966), (1244205, 3.964), (1260758, 3.962), (2019239, 3.96), (2458094, 3.958), (312640, 3.956), (471663, 3.954), (1384457, 3.952), (998555, 3.95), (1709395, 3.948), (359374, 3.946), (2360067, 3.944), (1487482, 3.942), (1703136, 3.94)])]\n"
     ]
    }
   ],
   "source": [
    "print a.take(1)"
   ]
  },
  {
   "cell_type": "code",
   "execution_count": 58,
   "metadata": {
    "collapsed": false
   },
   "outputs": [
    {
     "name": "stdout",
     "output_type": "stream",
     "text": [
      "((0, 0.001), (0, 0.0015))\n",
      "((0, 0.001), (1, 0.001))\n",
      "((0, 0.001), (1, 0.0015))\n",
      "((0, 0.0015), (1, 0.001))\n",
      "((0, 0.0015), (1, 0.0015))\n",
      "((1, 0.001), (1, 0.0015))\n"
     ]
    }
   ],
   "source": [
    "values_pool = [0, 1]\n",
    "decays_pool = [0.001,0.0015]\n",
    "\n",
    "# The third parameters is the number of submissions that we have in this level of the stack\n",
    "combinations = create_linear_combination(values_pool, decays_pool, 2)\n",
    "for combination in combinations:\n",
    "    print combination"
   ]
  },
  {
   "cell_type": "code",
   "execution_count": null,
   "metadata": {
    "collapsed": true
   },
   "outputs": [],
   "source": [
    "# \n",
    "#  LINEAR\n",
    "#\n",
    "\n",
    "searched_list = []\n",
    "\n",
    "values_pool = [0,1,2]\n",
    "decays_pool = [0.001,0.0015,0.002]\n",
    "\n",
    "# The third parameters is the number of submissions that we have in this level of the stack\n",
    "combinations = create_linear_combination(values_pool, decays_pool, 6)\n",
    "\n",
    "for combination in combinations:\n",
    "    lin_stack_1_1 = ensemble(sc, [\n",
    "            linear_scorer(sc, cf_intint_rdd, combination[0][0], combination[0][1]),\n",
    "            linear_scorer(sc, cf_intimp_rdd, combination[1][0], combination[1][1]),\n",
    "            linear_scorer(sc, cf_impint_rdd, combination[2][0], combination[2][1]),\n",
    "            linear_scorer(sc, cf_impimp_rdd, combination[3][0], combination[3][1]),\n",
    "            linear_scorer(sc, cf_i_intint_rdd, combination[4][0], combination[4][1]),\n",
    "            linear_scorer(sc, cf_i_impimp_rdd, combination[5][0], combination[5][1])\n",
    "        ])\n",
    "    \n",
    "    # Evaluate the ensemble\n",
    "    lin_score = \n",
    "    searched_list.append((lin_score, combination, lin_stack_1_1))\n",
    "\n",
    "for s in sorted(searched_list, key=itemgetter(x[0]), reverse=True):\n",
    "    print str(s) + \" ;\""
   ]
  },
  {
   "cell_type": "code",
   "execution_count": null,
   "metadata": {
    "collapsed": true
   },
   "outputs": [],
   "source": [
    "# \n",
    "#  EVALUATION SCORE\n",
    "#\n",
    "\n",
    "eval_stack_1_1 = ensemble(sc, [\n",
    "            evaluation_scorer(cf_intint_rdd, ),\n",
    "            evaluation_scorer(cf_intimp_rdd, ),\n",
    "            evaluation_scorer(cf_impint_rdd, ),\n",
    "            evaluation_scorer(cf_impimp_rdd, ),\n",
    "            evaluation_scorer(cf_i_intint_rdd, ),\n",
    "            evaluation_scorer(cf_i_impimp_rdd, )\n",
    "        ])\n",
    "    \n",
    "# Evaluate the ensemble\n",
    "eval_score = \n",
    "print \"Evaluation score stack lv 1.1: \" + str(eval_score)"
   ]
  },
  {
   "cell_type": "code",
   "execution_count": null,
   "metadata": {
    "collapsed": true
   },
   "outputs": [],
   "source": [
    "best_stack_1_1 = sorted(searched_list, key=itemgetter(x[0]), reverse=True)[0][2] \\\n",
    "                if max(sorted(searched_list, key=itemgetter(x[0]), reverse=True)[0][0], eval_score) != eval_score \\\n",
    "                else eval_stack_1_1"
   ]
  },
  {
   "cell_type": "markdown",
   "metadata": {},
   "source": [
    "Content-Based\n",
    "---"
   ]
  },
  {
   "cell_type": "code",
   "execution_count": null,
   "metadata": {
    "collapsed": true
   },
   "outputs": [],
   "source": [
    "# \n",
    "#  LINEAR\n",
    "#\n",
    "\n",
    "searched_list = []\n",
    "\n",
    "values_pool = [0,1]\n",
    "decays_pool = [0.001,0.0015,0.002]\n",
    "\n",
    "# The third parameters is the number of submissions that we have in this level of the stack\n",
    "combinations = create_linear_combination(values_pool, decays_pool, 2)\n",
    "\n",
    "for combination in combinations:\n",
    "    lin_stack_1_2 = ensemble(sc, [\n",
    "            linear_scorer(sc, cb_idf_rdd, combination[0][0], combination[0][1]),\n",
    "            linear_scorer(sc, cb_concept_rdd, combination[1][0], combination[1][1])\n",
    "        ])\n",
    "    \n",
    "    # Evaluate the ensemble\n",
    "    lin_score = \n",
    "    searched_list.append((lin_score, combination, lin_stack_1_2))\n",
    "    \n",
    "for s in sorted(searched_list, key=itemgetter(x[0]), reverse=True):\n",
    "    print str(s) + \" ;\""
   ]
  },
  {
   "cell_type": "code",
   "execution_count": null,
   "metadata": {
    "collapsed": true
   },
   "outputs": [],
   "source": [
    "# \n",
    "#  EVALUATION SCORE\n",
    "#\n",
    "\n",
    "eval_stack_1_2 = ensemble(sc, [\n",
    "            evaluation_scorer(cb_idf_rdd, ),\n",
    "            evaluation_scorer(cb_concept_rdd, )\n",
    "        ])\n",
    "    \n",
    "# Evaluate the ensemble\n",
    "eval_score = \n",
    "print \"Evaluation score stack lv 1.2: \" + str(eval_score)"
   ]
  },
  {
   "cell_type": "code",
   "execution_count": null,
   "metadata": {
    "collapsed": true
   },
   "outputs": [],
   "source": [
    "best_stack_1_2 = sorted(searched_list, key=itemgetter(x[0]), reverse=True)[0][2] \\\n",
    "                if max(sorted(searched_list, key=itemgetter(x[0]), reverse=True)[0][0], eval_score) != eval_score \\\n",
    "                else eval_stack_1_2"
   ]
  },
  {
   "cell_type": "markdown",
   "metadata": {
    "collapsed": false
   },
   "source": [
    "Stack Ensembler - Level 2\n",
    "===\n",
    "Collaborative + Content\n",
    "---"
   ]
  },
  {
   "cell_type": "code",
   "execution_count": null,
   "metadata": {
    "collapsed": true
   },
   "outputs": [],
   "source": [
    "# \n",
    "#  LINEAR\n",
    "#\n",
    "\n",
    "searched_list = []\n",
    "\n",
    "values_pool = [0,1]\n",
    "decays_pool = [0.001,0.0015,0.002]\n",
    "\n",
    "# The third parameters is the number of submissions that we have in this level of the stack\n",
    "combinations = create_linear_combination(values_pool, decays_pool, 2)\n",
    "\n",
    "for combination in combinations:\n",
    "    lin_stack_2 = ensemble(sc, [\n",
    "            linear_scorer(sc, best_stack_1_1, combination[0][0], combination[0][1]),\n",
    "            linear_scorer(sc, best_stack_1_2, combination[1][0], combination[1][1])\n",
    "        ])\n",
    "    \n",
    "    # Evaluate the ensemble\n",
    "    lin_score = \n",
    "    searched_list.append((lin_score, combination, lin_stack_2))"
   ]
  },
  {
   "cell_type": "code",
   "execution_count": null,
   "metadata": {
    "collapsed": true
   },
   "outputs": [],
   "source": [
    "# \n",
    "#  EVALUATION SCORE\n",
    "#\n",
    "\n",
    "stack_2 = ensemble(sc, [\n",
    "            evaluation_scorer(best_stack_1_1, ),\n",
    "            evaluation_scorer(best_stack_1_2, )\n",
    "        ])\n",
    "    \n",
    "# Evaluate the ensemble\n",
    "score = \n",
    "print \"Evaluation score stack lv 2: \" + str(score)"
   ]
  },
  {
   "cell_type": "code",
   "execution_count": null,
   "metadata": {
    "collapsed": true
   },
   "outputs": [],
   "source": [
    "best_stack_2 = sorted(searched_list, key=itemgetter(x[0]), reverse=True)[0][2] \\\n",
    "                if max(sorted(searched_list, key=itemgetter(x[0]), reverse=True)[0][0], eval_score) != eval_score \\\n",
    "                else eval_stack_2"
   ]
  },
  {
   "cell_type": "markdown",
   "metadata": {},
   "source": [
    "Stack Ensembler - Level 3\n",
    "===\n",
    "Int + Imp + Level_2 + Baseline\n",
    "---"
   ]
  },
  {
   "cell_type": "code",
   "execution_count": null,
   "metadata": {
    "collapsed": true
   },
   "outputs": [],
   "source": [
    "# \n",
    "#  LINEAR\n",
    "#\n",
    "\n",
    "searched_list = []\n",
    "\n",
    "values_pool = [0,1,2]\n",
    "decays_pool = [0.001,0.0015,0.002]\n",
    "\n",
    "# The third parameters is the number of submissions that we have in this level of the stack\n",
    "combinations = create_linear_combination(values_pool, decays_pool, 4)\n",
    "\n",
    "for combination in combinations:\n",
    "    lin_stack_3 = ensemble(sc, [\n",
    "            linear_scorer(sc, interactions_rdd, combination[0][0], combination[0][1]),\n",
    "            linear_scorer(sc, impressions_rdd, combination[1][0], combination[1][1])\n",
    "            linear_scorer(sc, best_stack_2, combination[2][0], combination[2][1])\n",
    "            linear_scorer(sc, baseline_rdd, combination[3][0], combination[3][1])\n",
    "        ])\n",
    "    \n",
    "    # Evaluate the ensemble\n",
    "    lin_score = \n",
    "    searched_list.append((lin_score, combination, lin_stack_3))"
   ]
  },
  {
   "cell_type": "code",
   "execution_count": null,
   "metadata": {
    "collapsed": true
   },
   "outputs": [],
   "source": [
    "# \n",
    "#  EVALUATION SCORE\n",
    "#\n",
    "\n",
    "stack_3 = ensemble(sc, [\n",
    "            evaluation_scorer(interactions_rdd, ),\n",
    "            evaluation_scorer(impressions_rdd, ),\n",
    "            evaluation_scorer(best_stack_2, ),\n",
    "            evaluation_scorer(baseline_rdd, )\n",
    "        ])\n",
    "    \n",
    "# Evaluate the ensemble\n",
    "score = \n",
    "print \"Evaluation score stack lv 3: \" + str(score)"
   ]
  },
  {
   "cell_type": "code",
   "execution_count": null,
   "metadata": {
    "collapsed": true
   },
   "outputs": [],
   "source": [
    "best_stack_3 = sorted(searched_list, key=itemgetter(x[0]), reverse=True)[0][2] \\\n",
    "                if max(sorted(searched_list, key=itemgetter(x[0]), reverse=True)[0][0], eval_score) != eval_score \\\n",
    "                else eval_stack_3"
   ]
  },
  {
   "cell_type": "markdown",
   "metadata": {},
   "source": [
    "Write Recommendation\n",
    "---"
   ]
  },
  {
   "cell_type": "code",
   "execution_count": null,
   "metadata": {
    "collapsed": true
   },
   "outputs": [],
   "source": []
  }
 ],
 "metadata": {
  "kernelspec": {
   "display_name": "Python 2",
   "language": "python",
   "name": "python2"
  },
  "language_info": {
   "codemirror_mode": {
    "name": "ipython",
    "version": 2
   },
   "file_extension": ".py",
   "mimetype": "text/x-python",
   "name": "python",
   "nbconvert_exporter": "python",
   "pygments_lexer": "ipython2",
   "version": "2.7.11"
  }
 },
 "nbformat": 4,
 "nbformat_minor": 0
}
