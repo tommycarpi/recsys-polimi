{
 "cells": [
  {
   "cell_type": "code",
   "execution_count": 1,
   "metadata": {
    "collapsed": true
   },
   "outputs": [],
   "source": [
    "from operator import itemgetter\n",
    "import itertools\n",
    "import numpy as np\n",
    "import pandas as pd\n",
    "import imp\n",
    "mt = imp.load_source('metrics', '../evaluation_metric/metrics.py')\n",
    "from utils import merge_utils as mu\n",
    "from utils import write_utils as wu\n",
    "from utils import parse_utils as pu"
   ]
  },
  {
   "cell_type": "code",
   "execution_count": 2,
   "metadata": {
    "collapsed": true
   },
   "outputs": [],
   "source": [
    "def parse(sc, path):\n",
    "    # Create rdd\n",
    "    rdd = sc.textFile(path)\n",
    "    # Select header to be removed\n",
    "    header = rdd.first()\n",
    "\n",
    "    rdd = (rdd.filter(lambda x: x != header)\n",
    "           .map(lambda x: x.split(\"\\t\"))\n",
    "           .filter(lambda x: x[0] != '')\n",
    "           .map(lambda x:(int(x[0]),setup_items(x[1])))\n",
    "    )\n",
    "\n",
    "    return rdd\n",
    "\n",
    "def setup_items(items):\n",
    "    item_rank = 0\n",
    "    items_list = []\n",
    "    items_split = items.split(',')\n",
    "    \n",
    "    for item in items_split:\n",
    "        if item != '':\n",
    "            item_rank += 1\n",
    "            items_list.append((int(item),item_rank,0))\n",
    "            \n",
    "    return items_list"
   ]
  },
  {
   "cell_type": "code",
   "execution_count": 3,
   "metadata": {
    "collapsed": true
   },
   "outputs": [],
   "source": [
    "def generate(sc, rdd):\n",
    "        \n",
    "    new_rdd = (rdd.map(lambda x: ((x[0],x[1]),1))\n",
    "                 .reduceByKey(lambda x,y:x+y)\n",
    "                 .map(lambda x: (x[0][0],[(x[0][1],x[1])]))\n",
    "                 .reduceByKey(lambda x,y:x+y)\n",
    "                 .map(lambda x: (x[0],sorted(x[1], key=itemgetter(1), reverse=True)[:30]))\n",
    "                 )\n",
    "        \n",
    "    return new_rdd"
   ]
  },
  {
   "cell_type": "code",
   "execution_count": 4,
   "metadata": {
    "collapsed": false
   },
   "outputs": [],
   "source": [
    "test_users_rdd = sc.textFile(\"../../Dataset/target_users.csv\")\n",
    "header = test_users_rdd.first()\n",
    "test_users_list = (test_users_rdd.filter(lambda x: x != header)\n",
    "           .map(lambda x: x.split(\"\\n\"))\n",
    "           .map(lambda x: int(x[0]))\n",
    "           .collect()\n",
    "    )"
   ]
  },
  {
   "cell_type": "code",
   "execution_count": 5,
   "metadata": {
    "collapsed": false
   },
   "outputs": [],
   "source": [
    "active_items = dict(pu.parseItemData(sc, \"../../Dataset/items.csv\")\n",
    "               .filter(lambda x: x[1].active_during_test == 1)\n",
    "               .map(lambda x: (x[0],1))\n",
    "               .collect())"
   ]
  },
  {
   "cell_type": "markdown",
   "metadata": {},
   "source": [
    "Interactions\n",
    "--"
   ]
  },
  {
   "cell_type": "code",
   "execution_count": 11,
   "metadata": {
    "collapsed": false
   },
   "outputs": [],
   "source": [
    "interaction_rdd = (pu.parseInteractions(sc, \"../../Dataset/interactions.csv\")\n",
    "                  .filter(lambda x: x.interactionType != 4)\n",
    "                  .map(lambda x: (x.userId, x.itemId))\n",
    "                  .filter(lambda x: x[0] in test_users_list)\n",
    "                  .filter(lambda x: active_items.get(x[1]) != None))"
   ]
  },
  {
   "cell_type": "code",
   "execution_count": 12,
   "metadata": {
    "collapsed": false
   },
   "outputs": [
    {
     "data": {
      "text/plain": [
       "[(2512615, 1430344)]"
      ]
     },
     "execution_count": 12,
     "metadata": {},
     "output_type": "execute_result"
    }
   ],
   "source": [
    "interaction_rdd.take(1)"
   ]
  },
  {
   "cell_type": "code",
   "execution_count": 13,
   "metadata": {
    "collapsed": false
   },
   "outputs": [],
   "source": [
    "int_rdd = generate(sc, interaction_rdd)"
   ]
  },
  {
   "cell_type": "code",
   "execution_count": 14,
   "metadata": {
    "collapsed": false
   },
   "outputs": [
    {
     "name": "stdout",
     "output_type": "stream",
     "text": [
      "Submission file ../../Submissions/ens_subs/interactions created successfully\n"
     ]
    }
   ],
   "source": [
    "wu.prepareSubmission(int_rdd,\"../../Submissions/ens_subs/interactions\")"
   ]
  },
  {
   "cell_type": "markdown",
   "metadata": {},
   "source": [
    "Impressions\n",
    "---"
   ]
  },
  {
   "cell_type": "code",
   "execution_count": 6,
   "metadata": {
    "collapsed": true
   },
   "outputs": [],
   "source": [
    "impressions_rdd = (pu.parseImpressions(sc, \"/Users/tommy/Downloads/impressions.csv\")\n",
    "                  .map(lambda x: (x.userId, x.itemIds))\n",
    "                  .filter(lambda x: x[0] in test_users_list)\n",
    "                  .flatMap(lambda r: [(r[0], x, 1) for x in r[1] if active_items.get(x) != None]))"
   ]
  },
  {
   "cell_type": "code",
   "execution_count": 7,
   "metadata": {
    "collapsed": false
   },
   "outputs": [
    {
     "data": {
      "text/plain": [
       "[(594937, 1469274, 1)]"
      ]
     },
     "execution_count": 7,
     "metadata": {},
     "output_type": "execute_result"
    }
   ],
   "source": [
    "impressions_rdd.take(1)"
   ]
  },
  {
   "cell_type": "code",
   "execution_count": 8,
   "metadata": {
    "collapsed": false
   },
   "outputs": [
    {
     "name": "stdout",
     "output_type": "stream",
     "text": [
      "[(2134528, [(1984327, 313), (1386412, 267), (657183, 237), (1069281, 183), (1162250, 146), (1679143, 87), (1721694, 71), (1583705, 68), (1299461, 67), (704891, 58), (2446769, 57), (1570917, 53), (1729618, 52), (1140869, 42), (784737, 40), (1244196, 39), (266412, 37), (2489959, 26), (72465, 25), (1776330, 22), (468120, 8), (673299, 6)])]\n"
     ]
    }
   ],
   "source": [
    "imp_rdd = generate(sc, impressions_rdd)\n",
    "print imp_rdd.take(1)"
   ]
  },
  {
   "cell_type": "code",
   "execution_count": 9,
   "metadata": {
    "collapsed": false
   },
   "outputs": [
    {
     "name": "stdout",
     "output_type": "stream",
     "text": [
      "Submission file ../../Submissions/ens_subs/impressions created successfully\n"
     ]
    }
   ],
   "source": [
    "wu.prepareSubmission(imp_rdd,\"../../Submissions/ens_subs/impressions\")"
   ]
  },
  {
   "cell_type": "code",
   "execution_count": null,
   "metadata": {
    "collapsed": true
   },
   "outputs": [],
   "source": []
  }
 ],
 "metadata": {
  "kernelspec": {
   "display_name": "Python 2",
   "language": "python",
   "name": "python2"
  },
  "language_info": {
   "codemirror_mode": {
    "name": "ipython",
    "version": 2
   },
   "file_extension": ".py",
   "mimetype": "text/x-python",
   "name": "python",
   "nbconvert_exporter": "python",
   "pygments_lexer": "ipython2",
   "version": "2.7.11"
  }
 },
 "nbformat": 4,
 "nbformat_minor": 0
}
