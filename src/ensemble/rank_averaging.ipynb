{
 "cells": [
  {
   "cell_type": "code",
   "execution_count": 1,
   "metadata": {
    "collapsed": true
   },
   "outputs": [],
   "source": [
    "from operator import itemgetter\n",
    "from utils import merge_utils as mu\n",
    "from utils import write_utils as wu"
   ]
  },
  {
   "cell_type": "code",
   "execution_count": 2,
   "metadata": {
    "collapsed": true
   },
   "outputs": [],
   "source": [
    "def parse(sc, path):\n",
    "    # Create rdd\n",
    "    rdd = sc.textFile(path)\n",
    "    # Select header to be removed\n",
    "    header = rdd.first()\n",
    "\n",
    "    rdd = (rdd.filter(lambda x: x != header)\n",
    "           .map(lambda x: x.split(\"\\t\"))\n",
    "           .filter(lambda x: x[0] != '')\n",
    "           .map(lambda x:(int(x[0]),setup_items(x[1])))\n",
    "    )\n",
    "\n",
    "    return rdd\n",
    "\n",
    "def setup_items(items):\n",
    "    item_rank = 0\n",
    "    items_list = []\n",
    "    items_split = items.split(',')\n",
    "    \n",
    "    for item in items_split:\n",
    "        if item != '':\n",
    "            item_rank += 1\n",
    "            items_list.append((int(item),item_rank,0))\n",
    "            \n",
    "    return items_list"
   ]
  },
  {
   "cell_type": "code",
   "execution_count": 3,
   "metadata": {
    "collapsed": true
   },
   "outputs": [],
   "source": [
    "interaction_rdd = parse(sc, \"../../Submissions/ens_subs/interactions_82k.csv\")\n",
    "impression_rdd = parse(sc, \"../../Submissions/ens_subs/impressions_116k.csv\")\n",
    "\n",
    "cf_intint_rdd = parse(sc, \"../../Submissions/ens_subs/cf_int_int_18.9k.csv\")\n",
    "cf_intimp_rdd = parse(sc, \"../../Submissions/ens_subs/cf_int_imp_22.4k.csv\")\n",
    "cf_impint_rdd = parse(sc, \"../../Submissions/ens_subs/imp_imp_int_int_33.2k_avg.csv\")\n",
    "cf_impimp_rdd = parse(sc, \"../../Submissions/ens_subs/cf_imp_imp_31k.csv\")\n",
    "cf_i_intint_rdd = parse(sc, \"../../Submissions/ens_subs/true_10k_CF_ITEM_greater_3_shr=1_knn=750_22k.csv\")\n",
    "cf_i_impimp_rdd = parse(sc, \"../../Submissions/ens_subs/cf_item_imp_imp_20k.csv\")\n",
    "\n",
    "cb_idf_rdd = parse(sc, \"../../Submissions/ens_subs/idf_45k.csv\")\n",
    "cb_concept_rdd = parse(sc, \"../../Submissions/ens_subs/tf_ervin_37k.csv\")\n",
    "\n",
    "#baseline_rdd = parse(sc, \"./submissions/\")"
   ]
  },
  {
   "cell_type": "code",
   "execution_count": 6,
   "metadata": {
    "collapsed": false
   },
   "outputs": [
    {
     "name": "stdout",
     "output_type": "stream",
     "text": [
      "[(2588672, [(1070094, 1, 0), (2277750, 2, 0), (767198, 3, 0), (2787255, 4, 0), (1761753, 5, 0), (1399856, 6, 0), (56993, 7, 0), (792737, 8, 0), (725713, 9, 0), (1244196, 10, 0), (1478178, 11, 0), (939069, 12, 0), (1051740, 13, 0), (2345241, 14, 0), (477856, 15, 0), (102583, 16, 0), (2493140, 17, 0), (2183898, 18, 0), (1293546, 19, 0), (850201, 20, 0), (1145139, 21, 0), (1486154, 22, 0), (1441157, 23, 0), (2265526, 24, 0), (2138076, 25, 0), (1705434, 26, 0), (414112, 27, 0), (612922, 28, 0), (2294453, 29, 0), (657183, 30, 0), (984924, 31, 0), (2187714, 32, 0), (964254, 33, 0), (1903969, 34, 0), (1271875, 35, 0), (2413494, 36, 0), (1092821, 37, 0), (1338724, 38, 0), (1582921, 39, 0), (689497, 40, 0)])]\n"
     ]
    }
   ],
   "source": [
    "print cf_intint_rdd.take(1)"
   ]
  },
  {
   "cell_type": "code",
   "execution_count": 19,
   "metadata": {
    "collapsed": false
   },
   "outputs": [],
   "source": [
    "def rank_avg(sc, rdds):\n",
    "    ensemble_rdd = sc.emptyRDD()\n",
    "    \n",
    "    for rdd in rdds:\n",
    "        ensemble_rdd = ensemble_rdd.union(rdd.map(lambda x: (x[0], [(i[0],i[1],1) for i in x[1]])))\n",
    "    \n",
    "    voting_rdd = (ensemble_rdd.flatMap(lambda r: [(r[0], x) for x in r[1]])\n",
    "                     .map(lambda x: ((x[0],x[1][0]),(x[1][1],x[1][2])))\n",
    "                     .reduceByKey(lambda x,y: (x[0]+y[0],x[1]+y[1]))\n",
    "                     .map(lambda x: (x[0][0],[(x[0][1],x[1][0]/x[1][1])]))\n",
    "                     .reduceByKey(lambda x,y:x+y)\n",
    "                     .map(lambda x: (x[0],sorted(x[1], key=itemgetter(1), reverse=False)[:30]))\n",
    "                     )\n",
    "    \n",
    "    return voting_rdd"
   ]
  },
  {
   "cell_type": "code",
   "execution_count": 22,
   "metadata": {
    "collapsed": true
   },
   "outputs": [],
   "source": [
    "recommendation_rdd = rank_avg(sc, [interaction_rdd,\n",
    "                                impression_rdd,\n",
    "                                cf_intint_rdd,\n",
    "                                cf_intimp_rdd,\n",
    "                                cf_impimp_rdd,\n",
    "                                cf_impint_rdd,\n",
    "                                cf_i_impimp_rdd,\n",
    "                                cf_i_intint_rdd,\n",
    "                                cb_idf_rdd,\n",
    "                                cb_concept_rdd])"
   ]
  },
  {
   "cell_type": "code",
   "execution_count": 23,
   "metadata": {
    "collapsed": false
   },
   "outputs": [
    {
     "name": "stdout",
     "output_type": "stream",
     "text": [
      "[(76800, [(2293641, 1), (1063437, 1), (2224944, 1), (398809, 1), (2337484, 1), (1617570, 2), (862730, 2), (326608, 2), (880348, 3), (282769, 3), (671708, 3), (1994213, 3), (155380, 3), (474030, 4), (964497, 4), (1208167, 4), (1577023, 4), (1477419, 4), (2390058, 4), (2477853, 4), (1333841, 4), (1162250, 5), (1308041, 5), (1848945, 5), (1373867, 5), (1469617, 5), (2380717, 5), (2575832, 5), (2653086, 6), (784737, 6)])]\n"
     ]
    }
   ],
   "source": [
    "print recommendation_rdd.take(1)"
   ]
  },
  {
   "cell_type": "code",
   "execution_count": 25,
   "metadata": {
    "collapsed": false
   },
   "outputs": [
    {
     "name": "stdout",
     "output_type": "stream",
     "text": [
      "Submission file results/rank_averaging created successfully\n"
     ]
    }
   ],
   "source": [
    "wu.prepareSubmission(recommendation_rdd,\"results/rank_averaging\")"
   ]
  },
  {
   "cell_type": "code",
   "execution_count": null,
   "metadata": {
    "collapsed": true
   },
   "outputs": [],
   "source": []
  }
 ],
 "metadata": {
  "kernelspec": {
   "display_name": "Python 2",
   "language": "python",
   "name": "python2"
  },
  "language_info": {
   "codemirror_mode": {
    "name": "ipython",
    "version": 2
   },
   "file_extension": ".py",
   "mimetype": "text/x-python",
   "name": "python",
   "nbconvert_exporter": "python",
   "pygments_lexer": "ipython2",
   "version": "2.7.11"
  }
 },
 "nbformat": 4,
 "nbformat_minor": 0
}
