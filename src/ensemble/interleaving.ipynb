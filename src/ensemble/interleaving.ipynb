{
 "cells": [
  {
   "cell_type": "code",
   "execution_count": 7,
   "metadata": {
    "collapsed": true
   },
   "outputs": [],
   "source": [
    "from operator import itemgetter\n",
    "from utils import merge_utils as mu\n",
    "from utils import write_utils as wu"
   ]
  },
  {
   "cell_type": "code",
   "execution_count": 2,
   "metadata": {
    "collapsed": true
   },
   "outputs": [],
   "source": [
    "def interleave(sc,submissions_list):\n",
    "    \n",
    "    merge_rdd = sc.emptyRDD()\n",
    "    \n",
    "    for s in submissions_list:\n",
    "        ls_rdd = parse_submission_with_value(sc,s[0],s[1])\n",
    "        merge_rdd = merge_rdd.union(ls_rdd)\n",
    "    \n",
    "    \n",
    "    merge_rdd = (merge_rdd.flatMap(lambda r: [(r[0], x) for x in r[1]])\n",
    "                 .map(lambda x: ((x[0],x[1][0]),x[1][1]))\n",
    "                 .reduceByKey(lambda x,y:max(x,y))\n",
    "                 .map(lambda x: (x[0][0],[(x[0][1],x[1])]))\n",
    "                 .reduceByKey(lambda x,y:x+y)\n",
    "                 .map(lambda x: (x[0],sorted(x[1], key=itemgetter(1), reverse=True)[:30]))\n",
    "                 )\n",
    "    \n",
    "    return merge_rdd\n",
    "\n",
    "def recommendation_list_with_value(string, value):\n",
    "    updating_value = value\n",
    "    lista=[]\n",
    "    split = string.split(',')\n",
    "    for i in split:\n",
    "        if i != '':\n",
    "            lista.append((int(i),updating_value))\n",
    "            updating_value -= 1\n",
    "            \n",
    "    return lista\n",
    "\n",
    "def parse_submission_with_value(sc, path, value):\n",
    "    rdd = sc.textFile(path)\n",
    "    \n",
    "    header = rdd.first()\n",
    "\n",
    "    rdd = (rdd.filter(lambda x: x != header)\n",
    "    .map(lambda x: x.split(\"\\t\"))\n",
    "    .filter(lambda x: x[0] != '')\n",
    "    .map(lambda x:(int(x[0]),recommendation_list_with_value(x[1], value)))\n",
    "    )\n",
    "\n",
    "    return rdd"
   ]
  },
  {
   "cell_type": "code",
   "execution_count": 3,
   "metadata": {
    "collapsed": true
   },
   "outputs": [],
   "source": [
    "def recommendation_list(string):\n",
    "    lista=[]\n",
    "    split = string.split(',')\n",
    "    for i in split:\n",
    "        if i != '':\n",
    "            lista.append((int(i)))\n",
    "            \n",
    "    return lista\n",
    "\n",
    "def parse_submission(sc, path):\n",
    "    rdd = sc.textFile(path)\n",
    "    \n",
    "    header = rdd.first()\n",
    "\n",
    "    rdd = (rdd.filter(lambda x: x != header)\n",
    "    .map(lambda x: x.split(\"\\t\"))\n",
    "    .filter(lambda x: x[0] != '')\n",
    "    .map(lambda x:(int(x[0]),recommendation_list(x[1])))\n",
    "    )\n",
    "\n",
    "    return rdd"
   ]
  },
  {
   "cell_type": "code",
   "execution_count": 5,
   "metadata": {
    "collapsed": false
   },
   "outputs": [
    {
     "name": "stdout",
     "output_type": "stream",
     "text": [
      "[(76800, [(2395026, 30), (1793593, 30), (2293641, 30), (784737, 30), (1063437, 30), (2224944, 30), (2477853, 30), (398809, 30), (2337484, 30), (1617570, 29), (1848945, 29), (1208167, 29), (956825, 29), (1244196, 29), (490302, 29), (862730, 29), (326608, 29), (880348, 28), (282769, 28), (2755404, 28), (671708, 28), (536047, 28), (976877, 28), (1994213, 28), (1442340, 28), (155380, 28), (474030, 27), (964497, 27), (1577023, 27), (1477419, 27)])]\n"
     ]
    }
   ],
   "source": [
    "recommendation = interleave(sc, [(\"../../Submissions/ens_subs/interactions_82k.csv\",30),\n",
    "                                 (\"../../Submissions/ens_subs/impressions_116k.csv\",30),\n",
    "                                 (\"../../Submissions/ens_subs/cf_int_int_18.9k.csv\",30),\n",
    "                                 (\"../../Submissions/ens_subs/cf_int_imp_22.4k.csv\",30),\n",
    "                                 (\"../../Submissions/ens_subs/imp_imp_int_int_33.2k_avg.csv\",30),\n",
    "                                (\"../../Submissions/ens_subs/cf_imp_imp_31k.csv\",30),\n",
    "                                (\"../../Submissions/ens_subs/true_10k_CF_ITEM_greater_3_shr=1_knn=750_22k.csv\",30),\n",
    "                                (\"../../Submissions/ens_subs/cf_item_imp_imp_20k.csv\",30),\n",
    "                                (\"../../Submissions/ens_subs/idf_45k.csv\",30),\n",
    "                                (\"../../Submissions/ens_subs/tf_ervin_37k.csv\",30)])\n",
    "print recommendation.take(1)"
   ]
  },
  {
   "cell_type": "code",
   "execution_count": 8,
   "metadata": {
    "collapsed": false
   },
   "outputs": [
    {
     "name": "stdout",
     "output_type": "stream",
     "text": [
      "Submission file results/pure_interleaving created successfully\n"
     ]
    }
   ],
   "source": [
    "wu.prepareSubmission(recommendation,\"results/pure_interleaving\")"
   ]
  },
  {
   "cell_type": "code",
   "execution_count": null,
   "metadata": {
    "collapsed": true
   },
   "outputs": [],
   "source": []
  }
 ],
 "metadata": {
  "kernelspec": {
   "display_name": "Python 2",
   "language": "python",
   "name": "python2"
  },
  "language_info": {
   "codemirror_mode": {
    "name": "ipython",
    "version": 2
   },
   "file_extension": ".py",
   "mimetype": "text/x-python",
   "name": "python",
   "nbconvert_exporter": "python",
   "pygments_lexer": "ipython2",
   "version": "2.7.11"
  }
 },
 "nbformat": 4,
 "nbformat_minor": 0
}
