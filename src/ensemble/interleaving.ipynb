{
 "cells": [
  {
   "cell_type": "code",
   "execution_count": 1,
   "metadata": {
    "collapsed": true
   },
   "outputs": [],
   "source": [
    "from operator import itemgetter"
   ]
  },
  {
   "cell_type": "code",
   "execution_count": 12,
   "metadata": {
    "collapsed": true
   },
   "outputs": [],
   "source": [
    "def interleave(sc,submissions_list):\n",
    "    \n",
    "    merge_rdd = sc.emptyRDD()\n",
    "    \n",
    "    for s in submissions_list:\n",
    "        ls_rdd = parse_submission_with_value(sc,s[0],s[1])\n",
    "        merge_rdd = merge_rdd.union(ls_rdd)\n",
    "    \n",
    "    \n",
    "    merge_rdd = (merge_rdd.flatMap(lambda r: [(r[0], x) for x in r[1]])\n",
    "                 .map(lambda x: ((x[0],x[1][0]),x[1][1]))\n",
    "                 .reduceByKey(lambda x,y:max(x,y))\n",
    "                 .map(lambda x: (x[0][0],[(x[0][1],x[1])]))\n",
    "                 .reduceByKey(lambda x,y:x+y)\n",
    "                 .map(lambda x: (x[0],sorted(x[1], key=itemgetter(1), reverse=True)[:30]))\n",
    "                 )\n",
    "    \n",
    "    return merge_rdd\n",
    "\n",
    "def recommendation_list_with_value(string, value):\n",
    "    updating_value = value\n",
    "    lista=[]\n",
    "    split = string.split(',')\n",
    "    for i in split:\n",
    "        if i != '':\n",
    "            lista.append((int(i),updating_value))\n",
    "            updating_value -= 1\n",
    "            \n",
    "    return lista\n",
    "\n",
    "def parse_submission_with_value(sc, path, value):\n",
    "    rdd = sc.textFile(path)\n",
    "    \n",
    "    header = rdd.first()\n",
    "\n",
    "    rdd = (rdd.filter(lambda x: x != header)\n",
    "    .map(lambda x: x.split(\"\\t\"))\n",
    "    .filter(lambda x: x[0] != '')\n",
    "    .map(lambda x:(int(x[0]),recommendation_list_with_value(x[1], value)))\n",
    "    )\n",
    "\n",
    "    return rdd"
   ]
  },
  {
   "cell_type": "code",
   "execution_count": 13,
   "metadata": {
    "collapsed": true
   },
   "outputs": [],
   "source": [
    "def recommendation_list(string):\n",
    "    lista=[]\n",
    "    split = string.split(',')\n",
    "    for i in split:\n",
    "        if i != '':\n",
    "            lista.append((int(i)))\n",
    "            \n",
    "    return lista\n",
    "\n",
    "def parse_submission(sc, path):\n",
    "    rdd = sc.textFile(path)\n",
    "    \n",
    "    header = rdd.first()\n",
    "\n",
    "    rdd = (rdd.filter(lambda x: x != header)\n",
    "    .map(lambda x: x.split(\"\\t\"))\n",
    "    .filter(lambda x: x[0] != '')\n",
    "    .map(lambda x:(int(x[0]),recommendation_list(x[1])))\n",
    "    )\n",
    "\n",
    "    return rdd"
   ]
  },
  {
   "cell_type": "code",
   "execution_count": 4,
   "metadata": {
    "collapsed": false
   },
   "outputs": [
    {
     "name": "stdout",
     "output_type": "stream",
     "text": [
      "[(9, [2778525, 1244196, 1053542, 657183, 536047, 1386412, 1162250, 1583705, 2791339, 784737, 1984327, 343377, 1576126, 2106311, 1056667, 830073, 1953846, 2446769, 1679143, 2031981, 1069281, 468120, 1851386, 1776330, 2593483, 2466095, 1443706, 2002097, 1092821, 460717])]\n"
     ]
    }
   ],
   "source": [
    "a = parse_submission(sc, \"/Users/tommy/Documents/pumpkin-pie/top_pop_impressions.csv\")\n",
    "b = parse_submission(sc, \"/Users/tommy/Documents/pumpkin-pie/top_pop_impressions.csv\")\n",
    "\n",
    "print a.take(1)"
   ]
  },
  {
   "cell_type": "code",
   "execution_count": 17,
   "metadata": {
    "collapsed": false
   },
   "outputs": [
    {
     "name": "stdout",
     "output_type": "stream",
     "text": [
      "[(458752, [(2778525, 30), (1244196, 29), (1053542, 28), (657183, 27), (536047, 26), (1386412, 25), (1162250, 24), (1583705, 23), (2791339, 22), (784737, 21), (1984327, 20), (343377, 19), (1576126, 18), (2106311, 17), (1056667, 16), (830073, 15), (1953846, 14), (2446769, 13), (1679143, 12), (2031981, 11), (1069281, 10), (468120, 9), (1851386, 8), (1776330, 7), (2593483, 6), (2466095, 5), (1443706, 4), (2002097, 3), (1092821, 2), (460717, 1)])]\n"
     ]
    }
   ],
   "source": [
    "recommendation = interleave(sc, [(\"/Users/tommy/Documents/pumpkin-pie/top_pop_impressions.csv\",30),\n",
    "                                 (\"/Users/tommy/Documents/pumpkin-pie/top_pop_impressions.csv\",30)])\n",
    "print recommendation.take(1)"
   ]
  },
  {
   "cell_type": "code",
   "execution_count": null,
   "metadata": {
    "collapsed": true
   },
   "outputs": [],
   "source": []
  }
 ],
 "metadata": {
  "kernelspec": {
   "display_name": "Python 2",
   "language": "python",
   "name": "python2"
  },
  "language_info": {
   "codemirror_mode": {
    "name": "ipython",
    "version": 2
   },
   "file_extension": ".py",
   "mimetype": "text/x-python",
   "name": "python",
   "nbconvert_exporter": "python",
   "pygments_lexer": "ipython2",
   "version": "2.7.11"
  }
 },
 "nbformat": 4,
 "nbformat_minor": 0
}
