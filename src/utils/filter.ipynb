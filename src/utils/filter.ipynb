{
 "cells": [
  {
   "cell_type": "code",
   "execution_count": 3,
   "metadata": {
    "collapsed": false
   },
   "outputs": [],
   "source": [
    "import merge_utils as mu\n",
    "import write_utils as wu\n",
    "import parse_utils as pu\n",
    "from operator import itemgetter"
   ]
  },
  {
   "cell_type": "code",
   "execution_count": 47,
   "metadata": {
    "collapsed": true
   },
   "outputs": [],
   "source": [
    "def recommendation_list(string):\n",
    "    lista=[]\n",
    "    split = string.split(',')\n",
    "    for i in split:\n",
    "        if i != '':\n",
    "            lista.append((int(i)))\n",
    "            \n",
    "    return lista\n",
    "\n",
    "def parse_submission(sc, path):\n",
    "    rdd = sc.textFile(path)\n",
    "    \n",
    "    header = rdd.first()\n",
    "\n",
    "    rdd = (rdd.filter(lambda x: x != header)\n",
    "    .map(lambda x: x.split(\"\\t\"))\n",
    "    .filter(lambda x: x[0] != '')\n",
    "    .map(lambda x:(int(x[0]),recommendation_list(x[1])))\n",
    "    )\n",
    "\n",
    "    return rdd\n",
    "\n",
    "def recommendation_list_with_value(string, value):\n",
    "    updating_value = value\n",
    "    lista=[]\n",
    "    split = string.split(' ')\n",
    "    for i in split:\n",
    "        if i != '':\n",
    "            updating_value -= 0.0001\n",
    "            lista.append((int(i),updating_value))\n",
    "            \n",
    "    return lista\n",
    "\n",
    "def psv(sc, path, value):\n",
    "    rdd = sc.textFile(path)\n",
    "    \n",
    "    header = rdd.first()\n",
    "\n",
    "    rdd = (rdd.filter(lambda x: x != header)\n",
    "    .map(lambda x: x.split(\",\"))\n",
    "    .filter(lambda x: x[0] != '')\n",
    "    .map(lambda x:(int(x[0]),recommendation_list_with_value(x[1], value)))\n",
    "    )\n",
    "\n",
    "    return rdd\n",
    "\n",
    "def rdd_no_header(rdd):\n",
    "    header = rdd.first()\n",
    "    return rdd.filter(lambda x: x!=header)\n",
    "\n",
    "def get_sim_dict(sim_rdd):\n",
    "    return (rdd_no_header(sim_rdd)\n",
    "                .map(lambda x:x.split(\"\\t\"))\n",
    "                .filter(lambda x:x[0]!='' or x[1]!='')\n",
    "                .map(lambda x:(int(x[0]),from_string_to_list(x[1], 30)))\n",
    "               )\n",
    "\n",
    "def get_weight_value(jobs, value):\n",
    "    if len(jobs) > 0:\n",
    "        return [(i[0],i[1]) for i in jobs[:50]]\n",
    "    else:\n",
    "        return []\n",
    "    \n",
    "def psvs(sc, path, value):\n",
    "    rdd = sc.textFile(path)\n",
    "    rec_rdd = (get_sim_dict(rdd)\n",
    "               .map(lambda x: (x[0], get_weight_value(x[1], value)))\n",
    "               .filter(lambda x: len(x[1]) > 0))\n",
    "    \n",
    "    return rec_rdd\n",
    "\n",
    "def from_string_to_list(stringa,kNN=30):\n",
    "    lista_stringa = stringa.replace(\"[\",\"\").replace(\"]\",\"\").replace(\"(\",\"\").split(\"),\")\n",
    "    lista_stringa = [i.replace(\")\",\"\").split(\", \") for i in lista_stringa]\n",
    "    final=[]\n",
    "    for tup in lista_stringa:\n",
    "        if tup[0]!='':# or tup[1]!='':\n",
    "            final.append((int(tup[0]),float(tup[1])))\n",
    "    \n",
    "    return sorted(final,key=itemgetter(1),reverse=True)[:kNN]\n",
    "\n",
    "def filter_data(x):\n",
    "    user = x[0]\n",
    "    jobs = x[1]\n",
    "    \n",
    "    to_be_filter = union_dict.get(user)\n",
    "    if to_be_filter != None:\n",
    "        return [j for j in jobs if int(j[0]) not in to_be_filter]\n",
    "    else:\n",
    "        return jobs"
   ]
  },
  {
   "cell_type": "code",
   "execution_count": 36,
   "metadata": {
    "collapsed": false
   },
   "outputs": [
    {
     "name": "stdout",
     "output_type": "stream",
     "text": [
      "[(884155, [2004235])]\n",
      "[(621311, [2015])]\n",
      "[(1662980, [2015, 2015, 2572617, 1527982, 315676, 2510121, 777485, 1513997, 2572617, 475783])]\n"
     ]
    }
   ],
   "source": [
    "interactions_rdd = parse_submission(sc, \"../../Dataset/interactions.csv\")\n",
    "print interactions_rdd.take(1)\n",
    "\n",
    "impressions_rdd = parse_submission(sc, \"/Users/tommy/Downloads/impressions.csv\")\n",
    "print impressions_rdd.take(1)\n",
    "\n",
    "union_rdd = impressions_rdd.union(interactions_rdd).reduceByKey(lambda x,y: x+y)\n",
    "print union_rdd.take(1)\n",
    "\n",
    "union_dict = dict(union_rdd.collect())"
   ]
  },
  {
   "cell_type": "code",
   "execution_count": 48,
   "metadata": {
    "collapsed": false
   },
   "outputs": [],
   "source": [
    "submission_name = \"../../Submissions/tf_ervin.csv\"\n",
    "submission_rdd = psv(sc, submission_name, 1)"
   ]
  },
  {
   "cell_type": "code",
   "execution_count": 60,
   "metadata": {
    "collapsed": true
   },
   "outputs": [],
   "source": [
    "recommendation_rdd = submission_rdd.map(lambda x: (x[0], filter_data(x)))"
   ]
  },
  {
   "cell_type": "code",
   "execution_count": 61,
   "metadata": {
    "collapsed": false
   },
   "outputs": [
    {
     "name": "stdout",
     "output_type": "stream",
     "text": [
      "Submission file ../../Submissions/FILTERED_tf_ervin created successfully\n"
     ]
    }
   ],
   "source": [
    "wu.prepareSubmission(recommendation_rdd, \"../../Submissions/FILTERED_tf_ervin\")"
   ]
  },
  {
   "cell_type": "code",
   "execution_count": null,
   "metadata": {
    "collapsed": true
   },
   "outputs": [],
   "source": []
  }
 ],
 "metadata": {
  "kernelspec": {
   "display_name": "Python 2",
   "language": "python",
   "name": "python2"
  },
  "language_info": {
   "codemirror_mode": {
    "name": "ipython",
    "version": 2
   },
   "file_extension": ".py",
   "mimetype": "text/x-python",
   "name": "python",
   "nbconvert_exporter": "python",
   "pygments_lexer": "ipython2",
   "version": "2.7.11"
  }
 },
 "nbformat": 4,
 "nbformat_minor": 0
}
